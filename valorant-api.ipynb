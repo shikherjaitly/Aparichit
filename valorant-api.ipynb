{
 "cells": [
  {
   "cell_type": "code",
   "execution_count": 10,
   "id": "dde84ac5",
   "metadata": {},
   "outputs": [
    {
     "name": "stdout",
     "output_type": "stream",
     "text": [
      "Defaulting to user installation because normal site-packages is not writeable\n",
      "Collecting requests\n",
      "  Downloading requests-2.31.0-py3-none-any.whl (62 kB)\n",
      "                                              0.0/62.6 kB ? eta -:--:--\n",
      "     ------------------------               41.0/62.6 kB 991.0 kB/s eta 0:00:01\n",
      "     -------------------------------------- 62.6/62.6 kB 844.1 kB/s eta 0:00:00\n",
      "Collecting charset-normalizer<4,>=2 (from requests)\n",
      "  Downloading charset_normalizer-3.1.0-cp310-cp310-win_amd64.whl (97 kB)\n",
      "                                              0.0/97.1 kB ? eta -:--:--\n",
      "     ---------------------------------------- 97.1/97.1 kB 5.8 MB/s eta 0:00:00\n",
      "Requirement already satisfied: idna<4,>=2.5 in c:\\users\\gaurav jee\\appdata\\roaming\\python\\python310\\site-packages (from requests) (3.4)\n",
      "Collecting urllib3<3,>=1.21.1 (from requests)\n",
      "  Downloading urllib3-2.0.3-py3-none-any.whl (123 kB)\n",
      "                                              0.0/123.6 kB ? eta -:--:--\n",
      "     -------------------------------------- 123.6/123.6 kB 7.1 MB/s eta 0:00:00\n",
      "Collecting certifi>=2017.4.17 (from requests)\n",
      "  Downloading certifi-2023.5.7-py3-none-any.whl (156 kB)\n",
      "                                              0.0/157.0 kB ? eta -:--:--\n",
      "     -----------------------------          122.9/157.0 kB 3.6 MB/s eta 0:00:01\n",
      "     -------------------------------------- 157.0/157.0 kB 3.1 MB/s eta 0:00:00\n",
      "Installing collected packages: urllib3, charset-normalizer, certifi, requests\n",
      "Successfully installed certifi-2023.5.7 charset-normalizer-3.1.0 requests-2.31.0 urllib3-2.0.3\n"
     ]
    },
    {
     "name": "stderr",
     "output_type": "stream",
     "text": [
      "  WARNING: The script normalizer.exe is installed in 'C:\\Users\\GAURAV JEE\\AppData\\Roaming\\Python\\Python310\\Scripts' which is not on PATH.\n",
      "  Consider adding this directory to PATH or, if you prefer to suppress this warning, use --no-warn-script-location.\n"
     ]
    }
   ],
   "source": [
    "!pip install requests"
   ]
  },
  {
   "cell_type": "code",
   "execution_count": 6,
   "id": "bab96d9a",
   "metadata": {},
   "outputs": [
    {
     "name": "stdout",
     "output_type": "stream",
     "text": [
      "Defaulting to user installation because normal site-packages is not writeable\n",
      "Requirement already satisfied: valorant in c:\\users\\gaurav jee\\appdata\\roaming\\python\\python310\\site-packages (1.0.4)\n"
     ]
    }
   ],
   "source": [
    "!pip install valorant"
   ]
  },
  {
   "cell_type": "code",
   "execution_count": 14,
   "id": "7fd21323",
   "metadata": {},
   "outputs": [],
   "source": [
    "KEY = \"RGAPI-4cad4905-8691-4dcc-9381-b19fed43269d\""
   ]
  },
  {
   "cell_type": "code",
   "execution_count": 19,
   "id": "c35b02f2",
   "metadata": {},
   "outputs": [
    {
     "name": "stdout",
     "output_type": "stream",
     "text": [
      "Top Players in AP:\n",
      "\n",
      "#1 - JokiByMedanJett (30 wins)\n",
      "#2 - None (36 wins)\n",
      "#3 - NASR Rarga (26 wins)\n",
      "#4 - LFT Katsu (32 wins)\n",
      "#5 - ชนะ (31 wins)\n",
      "#6 - None (36 wins)\n",
      "#7 - None (34 wins)\n",
      "#8 - lirios de pascua (24 wins)\n",
      "#9 - BosJoer (25 wins)\n",
      "#10 - None (27 wins)\n",
      "#11 - 我爱小姐姐 (26 wins)\n",
      "#12 - fluffy (25 wins)\n",
      "#13 - SPARROWW (24 wins)\n",
      "#14 - None (26 wins)\n",
      "#15 - GodOlivia (24 wins)\n"
     ]
    }
   ],
   "source": [
    "# Get the ranked leaderboard of a region and print the\n",
    "# top players. Shows leaderboard rank, game name, and\n",
    "# number of wins. See documentation on `Client.get_leaderboard`\n",
    "# for more info.\n",
    "\n",
    "import os\n",
    "import valorant\n",
    "\n",
    "#KEY = os.environ[\"VALPY-KEY\"]\n",
    "\n",
    "# Set our client's region to EU. Client uses NA by default.\n",
    "client = valorant.Client(KEY, locale = \"en-US\", region=\"ap\")\n",
    "\n",
    "# Get the top 15 players on the Ranked Leaderboard.\n",
    "lb = client.get_leaderboard(size=15)\n",
    "\n",
    "print(\"Top Players in AP:\\n\")\n",
    "\n",
    "# Print all players on the leaderboard.\n",
    "for p in lb.players:\n",
    "    print(f\"#{p.leaderboardRank} - {p.gameName} ({p.numberOfWins} wins)\")"
   ]
  },
  {
   "cell_type": "code",
   "execution_count": 20,
   "id": "37b2e92e",
   "metadata": {},
   "outputs": [],
   "source": [
    "account = client.get_user_by_name(\"frissyn#6969\")"
   ]
  },
  {
   "cell_type": "code",
   "execution_count": 22,
   "id": "e55ef36c",
   "metadata": {},
   "outputs": [
    {
     "name": "stdout",
     "output_type": "stream",
     "text": [
      "None\n"
     ]
    }
   ],
   "source": [
    "print(account)"
   ]
  },
  {
   "cell_type": "code",
   "execution_count": 30,
   "id": "2c2a4f72",
   "metadata": {},
   "outputs": [
    {
     "name": "stdout",
     "output_type": "stream",
     "text": [
      "None\n"
     ]
    }
   ],
   "source": [
    "import os\n",
    "import valorant\n",
    "\n",
    "#KEY = os.environ[\"VALPY-KEY\"]\n",
    "client = valorant.Client(KEY, locale=\"en-US\", region=\"ap\")\n",
    "\n",
    "# Get a user by name and tagline.\n",
    "account = client.get_user_by_name(\"Gobu69#6969\")\n",
    "print(account)"
   ]
  },
  {
   "cell_type": "code",
   "execution_count": 31,
   "id": "60af63bd",
   "metadata": {},
   "outputs": [
    {
     "name": "stdout",
     "output_type": "stream",
     "text": [
      "<class AccountDTO @gameName=ChadGobu @handle=<valorant.caller.WebCaller object at 0x0000027F7DE09360> @puuid=bP_jh-qTaXO3Cw6YjTkqTT_RWAxcoHgkHrbl2Tnx5_aTXGCsdMPQThtwUgRrb6LUS-yFrxbTnhJ6HA @tagLine=6969>\n"
     ]
    },
    {
     "ename": "HTTPError",
     "evalue": "403 Client Error: Forbidden for url: https://ap.api.riotgames.com/val/match/v1/matchlists/by-puuid/bP_jh-qTaXO3Cw6YjTkqTT_RWAxcoHgkHrbl2Tnx5_aTXGCsdMPQThtwUgRrb6LUS-yFrxbTnhJ6HA?locale=en-US",
     "output_type": "error",
     "traceback": [
      "\u001b[1;31m---------------------------------------------------------------------------\u001b[0m",
      "\u001b[1;31mHTTPError\u001b[0m                                 Traceback (most recent call last)",
      "Cell \u001b[1;32mIn[31], line 19\u001b[0m\n\u001b[0;32m     16\u001b[0m \u001b[38;5;28mprint\u001b[39m(account)\n\u001b[0;32m     17\u001b[0m \u001b[38;5;66;03m# Find their most recent Ranked match.\u001b[39;00m\n\u001b[0;32m     18\u001b[0m \u001b[38;5;66;03m# This will raise an error if your API Key does not have match access.\u001b[39;00m\n\u001b[1;32m---> 19\u001b[0m match \u001b[38;5;241m=\u001b[39m \u001b[43maccount\u001b[49m\u001b[38;5;241;43m.\u001b[39;49m\u001b[43mmatchlist\u001b[49m\u001b[43m(\u001b[49m\u001b[43m)\u001b[49m\u001b[38;5;241m.\u001b[39mhistory\u001b[38;5;241m.\u001b[39mfind(queueId\u001b[38;5;241m=\u001b[39m\u001b[38;5;124m\"\u001b[39m\u001b[38;5;124mcompetitive\u001b[39m\u001b[38;5;124m\"\u001b[39m)\n\u001b[0;32m     21\u001b[0m \u001b[38;5;66;03m# Check if the match exists.\u001b[39;00m\n\u001b[0;32m     22\u001b[0m \u001b[38;5;28;01mif\u001b[39;00m match \u001b[38;5;241m==\u001b[39m \u001b[38;5;28;01mNone\u001b[39;00m:\n",
      "File \u001b[1;32m~\\AppData\\Roaming\\Python\\Python310\\site-packages\\valorant\\objects\\account.py:22\u001b[0m, in \u001b[0;36mAccountDTO.matchlist\u001b[1;34m(self)\u001b[0m\n\u001b[0;32m     16\u001b[0m \u001b[38;5;28;01mdef\u001b[39;00m \u001b[38;5;21mmatchlist\u001b[39m(\u001b[38;5;28mself\u001b[39m) \u001b[38;5;241m-\u001b[39m\u001b[38;5;241m>\u001b[39m MatchlistDTO:\n\u001b[0;32m     17\u001b[0m \u001b[38;5;250m    \u001b[39m\u001b[38;5;124;03m\"\"\"Get a :class:`MatchlistDTO` of the most recent matches played\u001b[39;00m\n\u001b[0;32m     18\u001b[0m \u001b[38;5;124;03m    by this account.\u001b[39;00m\n\u001b[0;32m     19\u001b[0m \n\u001b[0;32m     20\u001b[0m \u001b[38;5;124;03m    :rtype: MatchlistDTO\u001b[39;00m\n\u001b[0;32m     21\u001b[0m \u001b[38;5;124;03m    \"\"\"\u001b[39;00m\n\u001b[1;32m---> 22\u001b[0m     l \u001b[38;5;241m=\u001b[39m \u001b[38;5;28;43mself\u001b[39;49m\u001b[38;5;241;43m.\u001b[39;49m\u001b[43mhandle\u001b[49m\u001b[38;5;241;43m.\u001b[39;49m\u001b[43mcall\u001b[49m\u001b[43m(\u001b[49m\u001b[38;5;124;43m\"\u001b[39;49m\u001b[38;5;124;43mGET\u001b[39;49m\u001b[38;5;124;43m\"\u001b[39;49m\u001b[43m,\u001b[49m\u001b[43m \u001b[49m\u001b[38;5;124;43m\"\u001b[39;49m\u001b[38;5;124;43mmatchlists\u001b[39;49m\u001b[38;5;124;43m\"\u001b[39;49m\u001b[43m,\u001b[49m\u001b[43m \u001b[49m\u001b[43mpuuid\u001b[49m\u001b[38;5;241;43m=\u001b[39;49m\u001b[38;5;28;43mself\u001b[39;49m\u001b[38;5;241;43m.\u001b[39;49m\u001b[43mpuuid\u001b[49m\u001b[43m)\u001b[49m\n\u001b[0;32m     24\u001b[0m     \u001b[38;5;28;01mreturn\u001b[39;00m MatchlistDTO(l, \u001b[38;5;28mself\u001b[39m\u001b[38;5;241m.\u001b[39mhandle)\n",
      "File \u001b[1;32m~\\AppData\\Roaming\\Python\\Python310\\site-packages\\valorant\\caller.py:57\u001b[0m, in \u001b[0;36mWebCaller.call\u001b[1;34m(self, m, ep, escape_if, params, route, **kw)\u001b[0m\n\u001b[0;32m     54\u001b[0m \u001b[38;5;28;01mif\u001b[39;00m r\u001b[38;5;241m.\u001b[39mstatus_code \u001b[38;5;129;01min\u001b[39;00m escape_if:\n\u001b[0;32m     55\u001b[0m     \u001b[38;5;28;01mreturn\u001b[39;00m \u001b[38;5;28;01mNone\u001b[39;00m\n\u001b[1;32m---> 57\u001b[0m \u001b[38;5;28;01mreturn\u001b[39;00m \u001b[43mr\u001b[49m\u001b[38;5;241;43m.\u001b[39;49m\u001b[43mraise_for_status\u001b[49m\u001b[43m(\u001b[49m\u001b[43m)\u001b[49m \u001b[38;5;129;01mor\u001b[39;00m r\u001b[38;5;241m.\u001b[39mjson()\n",
      "File \u001b[1;32m~\\AppData\\Roaming\\Python\\Python310\\site-packages\\requests\\models.py:1021\u001b[0m, in \u001b[0;36mResponse.raise_for_status\u001b[1;34m(self)\u001b[0m\n\u001b[0;32m   1016\u001b[0m     http_error_msg \u001b[38;5;241m=\u001b[39m (\n\u001b[0;32m   1017\u001b[0m         \u001b[38;5;124mf\u001b[39m\u001b[38;5;124m\"\u001b[39m\u001b[38;5;132;01m{\u001b[39;00m\u001b[38;5;28mself\u001b[39m\u001b[38;5;241m.\u001b[39mstatus_code\u001b[38;5;132;01m}\u001b[39;00m\u001b[38;5;124m Server Error: \u001b[39m\u001b[38;5;132;01m{\u001b[39;00mreason\u001b[38;5;132;01m}\u001b[39;00m\u001b[38;5;124m for url: \u001b[39m\u001b[38;5;132;01m{\u001b[39;00m\u001b[38;5;28mself\u001b[39m\u001b[38;5;241m.\u001b[39murl\u001b[38;5;132;01m}\u001b[39;00m\u001b[38;5;124m\"\u001b[39m\n\u001b[0;32m   1018\u001b[0m     )\n\u001b[0;32m   1020\u001b[0m \u001b[38;5;28;01mif\u001b[39;00m http_error_msg:\n\u001b[1;32m-> 1021\u001b[0m     \u001b[38;5;28;01mraise\u001b[39;00m HTTPError(http_error_msg, response\u001b[38;5;241m=\u001b[39m\u001b[38;5;28mself\u001b[39m)\n",
      "\u001b[1;31mHTTPError\u001b[0m: 403 Client Error: Forbidden for url: https://ap.api.riotgames.com/val/match/v1/matchlists/by-puuid/bP_jh-qTaXO3Cw6YjTkqTT_RWAxcoHgkHrbl2Tnx5_aTXGCsdMPQThtwUgRrb6LUS-yFrxbTnhJ6HA?locale=en-US"
     ]
    }
   ],
   "source": [
    "# Get the most recent Ranked match in a user's history,\n",
    "# and print the ranks of every player in the match. If\n",
    "# there isn't a Ranked match in the history, the program\n",
    "# will exit. **This example requires an API Key with access\n",
    "# to the match endpoint. You need to apply for that from\n",
    "# the Riot Games Developer Portal.**\n",
    "\n",
    "import os\n",
    "import valorant\n",
    "\n",
    "#KEY = os.environ[\"VALPY-KEY\"]\n",
    "client = valorant.Client(KEY, locale=\"en-US\", region=\"ap\")\n",
    "\n",
    "# Get a user by name and tagline.\n",
    "account = client.get_user_by_name(\"ChadGobu#6969\")\n",
    "print(account)\n",
    "# Find their most recent Ranked match.\n",
    "# This will raise an error if your API Key does not have match access.\n",
    "match = account.matchlist().history.find(queueId=\"competitive\")\n",
    "\n",
    "# Check if the match exists.\n",
    "if match == None:\n",
    "    print(\"No Ranked match in recent history!\")\n",
    "    exit(1)\n",
    "else:\n",
    "    match = match.get()\n",
    "\n",
    "# Print everyone's ranks.\n",
    "for team in match.teams:\n",
    "    print(f\"{team.teamId} Team's Ranks: \")\n",
    "\n",
    "    # Find all the players on the same team.\n",
    "    players = match.players.get_all(teamId=team.teamId)\n",
    "\n",
    "    for player in players:\n",
    "        print(f\"\\t{player.gameName} - {player.rank}\")\n"
   ]
  },
  {
   "cell_type": "code",
   "execution_count": null,
   "id": "fb70db0d",
   "metadata": {},
   "outputs": [],
   "source": []
  }
 ],
 "metadata": {
  "kernelspec": {
   "display_name": "Python 3 (ipykernel)",
   "language": "python",
   "name": "python3"
  },
  "language_info": {
   "codemirror_mode": {
    "name": "ipython",
    "version": 3
   },
   "file_extension": ".py",
   "mimetype": "text/x-python",
   "name": "python",
   "nbconvert_exporter": "python",
   "pygments_lexer": "ipython3",
   "version": "3.10.11"
  }
 },
 "nbformat": 4,
 "nbformat_minor": 5
}
